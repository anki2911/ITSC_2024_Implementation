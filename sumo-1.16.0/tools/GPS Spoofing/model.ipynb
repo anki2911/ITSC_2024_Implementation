{
 "cells": [
  {
   "cell_type": "code",
   "execution_count": 8,
   "metadata": {},
   "outputs": [],
   "source": [
    "import numpy as np\n",
    "import cvxpy as cp"
   ]
  },
  {
   "cell_type": "code",
   "execution_count": 9,
   "metadata": {},
   "outputs": [],
   "source": [
    "with open('A_21.npy', 'rb') as f:\n",
    "    A_ = np.load(f) # matrix corresponding to 13th day's travel pattern\n",
    "\n",
    "with open('D.npy', 'rb') as f:\n",
    "    D = np.load(f)"
   ]
  },
  {
   "cell_type": "code",
   "execution_count": 10,
   "metadata": {},
   "outputs": [],
   "source": [
    "A = np.zeros((A_.shape[0],A_.shape[0],int(A_.shape[2])))\n",
    "\n",
    "for k in range(A.shape[2]):\n",
    "    A[:,:,k] = np.sum(A_[:,:,k:k+1], axis = 2)"
   ]
  },
  {
   "cell_type": "code",
   "execution_count": 11,
   "metadata": {},
   "outputs": [],
   "source": [
    "# number of zones\n",
    "N = D.shape[0]\n",
    "\n",
    "# number of time slots\n",
    "K = A.shape[-1]"
   ]
  },
  {
   "cell_type": "code",
   "execution_count": 12,
   "metadata": {},
   "outputs": [],
   "source": [
    "average_speed = 40 #kmph\n",
    "\n",
    "T = np.divide(D, average_speed/60) # travel time matrix in minutes\n",
    "\n",
    "T = np.round(T).astype(int)\n",
    "\n",
    "for i in range(N):\n",
    "    T[i,i] = 1\n",
    "    \n",
    "T = np.ceil(T).astype(int)"
   ]
  },
  {
   "cell_type": "code",
   "execution_count": 13,
   "metadata": {},
   "outputs": [],
   "source": [
    "per_km_charge = 2.5/1.60934 # in $\n",
    "fixed_charge  = 2.5         # in $\n",
    "\n",
    "p  = D*per_km_charge + fixed_charge\n"
   ]
  },
  {
   "cell_type": "code",
   "execution_count": 14,
   "metadata": {},
   "outputs": [],
   "source": [
    "d = 1-D/np.max(D)"
   ]
  },
  {
   "cell_type": "code",
   "execution_count": 15,
   "metadata": {},
   "outputs": [],
   "source": [
    "V = np.zeros((N,K+50))\n",
    "\n",
    "# number of taxis\n",
    "C = 500\n",
    "\n",
    "for c in range(C):\n",
    "    V[np.random.randint(N),0] += 1"
   ]
  },
  {
   "cell_type": "code",
   "execution_count": 16,
   "metadata": {},
   "outputs": [],
   "source": [
    "def scheduling_state_update(U,k):\n",
    "    for i in range(N):\n",
    "        for j in range(N):\n",
    "            V[j, k+T[i,j]] += U[i,j] \n",
    "    \n",
    "    V[:,k] = V[:,k] - np.sum(U,1)\n",
    "    \n",
    "def recommendation_state_update(U,k):\n",
    "    for i in range(N):\n",
    "        for j in range(N):\n",
    "            V[j, k+T[i,j]] += U[i,j] \n",
    "\n",
    "def wait(k):\n",
    "    V[:,k+1] += V[:,k] \n",
    "    \n",
    "def scheduling_envionment(k):\n",
    "    x = cp.Variable((N, N),nonneg=True)\n",
    "    \n",
    "    cons = [x <= A[:,:,k], cp.sum(x,1) <= V[:,k]]\n",
    "\n",
    "    obj  = cp.Maximize(cp.sum(x))\n",
    "\n",
    "    prob = cp.Problem(obj, cons)\n",
    "\n",
    "    prob.solve()\n",
    "        \n",
    "    scheduling_state_update(x.value, k)\n",
    "\n",
    "    served_demand.append(np.sum(x.value))\n",
    "\n",
    "def recommendation_envionment(k,w):\n",
    "    r = np.sum(A[:,:,k:k+w], axis = (2,1))\n",
    "    v = np.sum(V[:,k:k+w], axis = 1)\n",
    "        \n",
    "    y = cp.Variable((N, N),nonneg=True)\n",
    "    z = cp.Variable(N,nonneg=True)\n",
    "    \n",
    "    cons = [cp.sum(y,1) <= V[:,k], z <= r, z <= v + cp.sum(y,0), cp.multiply(y,T-w)<=0]\n",
    "\n",
    "    obj  = cp.Maximize(cp.sum(z) + cp.sum(cp.multiply(y,d)))\n",
    "\n",
    "    prob = cp.Problem(obj, cons)\n",
    "\n",
    "    prob.solve()\n",
    "        \n",
    "    recommendation_state_update(y.value, k)\n",
    "    \n",
    "    recommendations.append(np.sum(y.value) - np.trace(y.value))\n"
   ]
  },
  {
   "cell_type": "code",
   "execution_count": 17,
   "metadata": {},
   "outputs": [],
   "source": [
    "w = 10 #horizon window\n",
    "    \n",
    "V = np.zeros((N,K+50))\n",
    "\n",
    "# number of taxis\n",
    "C = 500\n",
    "\n",
    "for c in range(C):\n",
    "    V[np.random.randint(N),0] += 1\n",
    "\n",
    "k = 0\n",
    "\n",
    "served_demand   = []\n",
    "recommendations = []\n",
    "\n",
    "while( k < A.shape[2]):\n",
    "\n",
    "    scheduling_envionment(k)\n",
    "    #wait(k)\n",
    "    recommendation_envionment(k,w)\n",
    "\n",
    "    k += 1\n",
    "\n",
    "print('served demand ratio', np.sum(served_demand/np.sum(A)))"
   ]
  },
  {
   "cell_type": "code",
   "execution_count": null,
   "metadata": {},
   "outputs": [],
   "source": []
  }
 ],
 "metadata": {
  "kernelspec": {
   "display_name": "Python 3",
   "language": "python",
   "name": "python3"
  },
  "language_info": {
   "codemirror_mode": {
    "name": "ipython",
    "version": 3
   },
   "file_extension": ".py",
   "mimetype": "text/x-python",
   "name": "python",
   "nbconvert_exporter": "python",
   "pygments_lexer": "ipython3",
   "version": "3.9.6"
  }
 },
 "nbformat": 4,
 "nbformat_minor": 2
}
